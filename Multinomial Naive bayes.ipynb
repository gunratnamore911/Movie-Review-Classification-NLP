{
 "cells": [
  {
   "cell_type": "markdown",
   "id": "4f8a1c85",
   "metadata": {},
   "source": [
    "### Multinomial Naive Bayes"
   ]
  },
  {
   "cell_type": "code",
   "execution_count": 39,
   "id": "edc20ea3",
   "metadata": {},
   "outputs": [],
   "source": [
    "x= [\"This was awesome awesome movie \",\n",
    "    \n",
    "    \"Great movie! I liked it a lot\",\n",
    "    \n",
    "    \"Happy Ending! awesome acting by hero\",\n",
    "    \n",
    "    \"loved it! truly great\",\n",
    "    \n",
    "    \"bad not upto the mark\",\n",
    "    \n",
    "    \"could have been better\",\n",
    "    \n",
    "    \"Surely a Disappointing movie \"\n",
    "   \n",
    "   ]\n",
    "\n",
    "\n",
    "y= [1,1,1,1,0,0,0] \n",
    "\n",
    "x_test = [\"I was happy and i loved the acting in the movie \",\n",
    "         \"The movie I saw was bad\"]\n"
   ]
  },
  {
   "cell_type": "markdown",
   "id": "d1181203",
   "metadata": {},
   "source": [
    "## 1 .Cleaning "
   ]
  },
  {
   "cell_type": "code",
   "execution_count": 40,
   "id": "14471a62",
   "metadata": {},
   "outputs": [],
   "source": [
    "import clean_text as ct"
   ]
  },
  {
   "cell_type": "code",
   "execution_count": 41,
   "id": "3b03a03c",
   "metadata": {},
   "outputs": [],
   "source": [
    "x_clean = [ct.getstemmedReview(i) for i in x]    # List comprehension\n",
    "xt_clean = [ct.getstemmedReview(i) for i in x_test]"
   ]
  },
  {
   "cell_type": "code",
   "execution_count": 80,
   "id": "862f4d10",
   "metadata": {},
   "outputs": [
    {
     "name": "stdout",
     "output_type": "stream",
     "text": [
      "['awesom awesom movi', 'great movi like lot', 'happi end awesom act hero', 'love truli great', 'bad upto mark', 'could better', 'sure disappoint movi']\n"
     ]
    }
   ],
   "source": [
    "print(x_clean)"
   ]
  },
  {
   "cell_type": "markdown",
   "id": "295f1e1a",
   "metadata": {},
   "source": [
    "## 2 . Vectorization"
   ]
  },
  {
   "cell_type": "code",
   "execution_count": 43,
   "id": "a6ec4c39",
   "metadata": {},
   "outputs": [],
   "source": [
    "from sklearn.feature_extraction.text import CountVectorizer"
   ]
  },
  {
   "cell_type": "code",
   "execution_count": 48,
   "id": "a7b93e28",
   "metadata": {},
   "outputs": [
    {
     "name": "stdout",
     "output_type": "stream",
     "text": [
      "[[0 2 0 0 0 0 0 0 0 0 0 0 0 0 1 0 0 0]\n",
      " [0 0 0 0 0 0 0 1 0 0 1 1 0 0 1 0 0 0]\n",
      " [1 1 0 0 0 0 1 0 1 1 0 0 0 0 0 0 0 0]\n",
      " [0 0 0 0 0 0 0 1 0 0 0 0 1 0 0 0 1 0]\n",
      " [0 0 1 0 0 0 0 0 0 0 0 0 0 1 0 0 0 1]\n",
      " [0 0 0 1 1 0 0 0 0 0 0 0 0 0 0 0 0 0]\n",
      " [0 0 0 0 0 1 0 0 0 0 0 0 0 0 1 1 0 0]]\n",
      "(7, 18)\n"
     ]
    }
   ],
   "source": [
    "cv =CountVectorizer()\n",
    "\n",
    "x_vec = cv.fit_transform(x_clean).toarray()\n",
    "print(x_vec)\n",
    "print(x_vec.shape)"
   ]
  },
  {
   "cell_type": "code",
   "execution_count": 49,
   "id": "13e7412e",
   "metadata": {},
   "outputs": [
    {
     "name": "stdout",
     "output_type": "stream",
     "text": [
      "['act' 'awesom' 'bad' 'better' 'could' 'disappoint' 'end' 'great' 'happi'\n",
      " 'hero' 'like' 'lot' 'love' 'mark' 'movi' 'sure' 'truli' 'upto']\n"
     ]
    }
   ],
   "source": [
    "print(cv.get_feature_names_out())"
   ]
  },
  {
   "cell_type": "markdown",
   "id": "70ead6cd",
   "metadata": {},
   "source": [
    "## 3. Vectorization on the test case"
   ]
  },
  {
   "cell_type": "code",
   "execution_count": 52,
   "id": "e6d4720e",
   "metadata": {},
   "outputs": [
    {
     "name": "stdout",
     "output_type": "stream",
     "text": [
      "[[1 0 0 0 0 0 0 0 1 0 0 0 1 0 1 0 0 0]\n",
      " [0 0 1 0 0 0 0 0 0 0 0 0 0 0 1 0 0 0]]\n",
      "(2, 18)\n"
     ]
    }
   ],
   "source": [
    "xt_vec= cv.transform(xt_clean).toarray()\n",
    "\n",
    "print(xt_vec)\n",
    "\n",
    "print(xt_vec.shape)"
   ]
  },
  {
   "cell_type": "markdown",
   "id": "25ce9097",
   "metadata": {},
   "source": [
    "## 4. Multinomial Naive bayes"
   ]
  },
  {
   "cell_type": "code",
   "execution_count": 74,
   "id": "ee79c205",
   "metadata": {},
   "outputs": [],
   "source": [
    "from sklearn.naive_bayes import MultinomialNB,BernoulliNB"
   ]
  },
  {
   "cell_type": "code",
   "execution_count": 55,
   "id": "d521b39f",
   "metadata": {},
   "outputs": [
    {
     "name": "stdout",
     "output_type": "stream",
     "text": [
      "MultinomialNB()\n"
     ]
    }
   ],
   "source": [
    "mnb= MultinomialNB()\n",
    "print(mnb)"
   ]
  },
  {
   "cell_type": "markdown",
   "id": "a60bed2e",
   "metadata": {},
   "source": [
    "## 5. Training"
   ]
  },
  {
   "cell_type": "code",
   "execution_count": 56,
   "id": "23ca36e3",
   "metadata": {},
   "outputs": [
    {
     "data": {
      "text/plain": [
       "MultinomialNB()"
      ]
     },
     "execution_count": 56,
     "metadata": {},
     "output_type": "execute_result"
    }
   ],
   "source": [
    "mnb.fit(x_vec,y)"
   ]
  },
  {
   "cell_type": "markdown",
   "id": "54fef810",
   "metadata": {},
   "source": [
    "## 6 . predictions "
   ]
  },
  {
   "cell_type": "code",
   "execution_count": 76,
   "id": "ffe217f9",
   "metadata": {},
   "outputs": [
    {
     "data": {
      "text/plain": [
       "array([[0.13956056, 0.86043944],\n",
       "       [0.61699717, 0.38300283]])"
      ]
     },
     "execution_count": 76,
     "metadata": {},
     "output_type": "execute_result"
    }
   ],
   "source": [
    "mnb.predict(xt_vec)\n",
    "\n",
    "mnb.predict_proba(xt_vec)\n"
   ]
  },
  {
   "cell_type": "markdown",
   "id": "5146f5e3",
   "metadata": {},
   "source": [
    "## 7. Multivariate Bernoulli Event model"
   ]
  },
  {
   "cell_type": "code",
   "execution_count": 61,
   "id": "e7780546",
   "metadata": {},
   "outputs": [
    {
     "name": "stdout",
     "output_type": "stream",
     "text": [
      "BernoulliNB()\n"
     ]
    }
   ],
   "source": [
    "bnb= BernoulliNB(binarize =0.0)\n",
    "print(bnb)"
   ]
  },
  {
   "cell_type": "code",
   "execution_count": 65,
   "id": "8ba258be",
   "metadata": {},
   "outputs": [
    {
     "data": {
      "text/plain": [
       "BernoulliNB()"
      ]
     },
     "execution_count": 65,
     "metadata": {},
     "output_type": "execute_result"
    }
   ],
   "source": [
    "bnb.fit(x_vec,y)"
   ]
  },
  {
   "cell_type": "code",
   "execution_count": 78,
   "id": "d3ce8be7",
   "metadata": {},
   "outputs": [
    {
     "data": {
      "text/plain": [
       "array([[0.07647628, 0.92352372],\n",
       "       [0.68830318, 0.31169682]])"
      ]
     },
     "execution_count": 78,
     "metadata": {},
     "output_type": "execute_result"
    }
   ],
   "source": [
    "\n",
    "bnb.predict(xt_vec)\n",
    "bnb.predict_proba(xt_vec)"
   ]
  },
  {
   "cell_type": "code",
   "execution_count": null,
   "id": "69266d92",
   "metadata": {},
   "outputs": [],
   "source": []
  }
 ],
 "metadata": {
  "kernelspec": {
   "display_name": "Python 3 (ipykernel)",
   "language": "python",
   "name": "python3"
  },
  "language_info": {
   "codemirror_mode": {
    "name": "ipython",
    "version": 3
   },
   "file_extension": ".py",
   "mimetype": "text/x-python",
   "name": "python",
   "nbconvert_exporter": "python",
   "pygments_lexer": "ipython3",
   "version": "3.8.10"
  }
 },
 "nbformat": 4,
 "nbformat_minor": 5
}
