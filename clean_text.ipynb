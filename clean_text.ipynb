{
 "cells": [
  {
   "cell_type": "code",
   "execution_count": 32,
   "id": "fa5664b0",
   "metadata": {},
   "outputs": [
    {
     "name": "stderr",
     "output_type": "stream",
     "text": [
      "[nltk_data] Downloading package stopwords to /home/gm911/nltk_data...\n",
      "[nltk_data]   Package stopwords is already up-to-date!\n"
     ]
    },
    {
     "data": {
      "text/plain": [
       "True"
      ]
     },
     "execution_count": 32,
     "metadata": {},
     "output_type": "execute_result"
    }
   ],
   "source": [
    "sampler_text = \"\"\" this movie is beautiful and stronlgy shows the reality ....i just don't like this movie because this is just a remake of tollywood movie they always copy their stories .\"\"\"\n",
    "import nltk\n",
    "nltk.download('stopwords')\n"
   ]
  },
  {
   "cell_type": "code",
   "execution_count": 33,
   "id": "f5bc4ad8",
   "metadata": {},
   "outputs": [],
   "source": [
    "from nltk.tokenize import RegexpTokenizer\n",
    "from nltk.stem.porter import PorterStemmer\n",
    "from nltk.corpus import stopwords"
   ]
  },
  {
   "cell_type": "code",
   "execution_count": 34,
   "id": "e9e625e7",
   "metadata": {},
   "outputs": [],
   "source": [
    "# Init objects \n",
    "tokenizer = RegexpTokenizer(r'\\w+')\n",
    "\n",
    "en_stopwords = set(stopwords.words('english'))\n",
    "\n",
    "ps =PorterStemmer()\n"
   ]
  },
  {
   "cell_type": "code",
   "execution_count": 35,
   "id": "2aebe0a7",
   "metadata": {},
   "outputs": [],
   "source": [
    "def getstemmedReview (review):\n",
    "    review = review.lower()\n",
    "    \n",
    "   #tokenize\n",
    "    tokens =tokenizer.tokenize(review)\n",
    "    \n",
    "    new_tokens = [token for token in tokens if token not in en_stopwords]\n",
    "    \n",
    "    stemmed_tokens = (ps.stem(token) for token in new_tokens)\n",
    "    \n",
    "    clean_review = ' '.join(stemmed_tokens)\n",
    "    \n",
    "    return clean_review\n",
    "\n",
    "    \n",
    "    "
   ]
  },
  {
   "cell_type": "code",
   "execution_count": 36,
   "id": "e2bd6dd2",
   "metadata": {},
   "outputs": [
    {
     "data": {
      "text/plain": [
       "'movi beauti stronlgi show realiti like movi remak tollywood movi alway copi stori'"
      ]
     },
     "execution_count": 36,
     "metadata": {},
     "output_type": "execute_result"
    }
   ],
   "source": [
    "getstemmedReview(sampler_text)"
   ]
  },
  {
   "cell_type": "code",
   "execution_count": 27,
   "id": "5407fc12",
   "metadata": {},
   "outputs": [],
   "source": [
    "def getStemmedDocument(inputfile,outputfile):\n",
    "    out = open(outputfile,'w',endcoding=\"utf8\")\n",
    "    with open(inputfile,encoding =\"utf8\") as f:\n",
    "        reviews = f.readlines()\n",
    "    \n",
    "    for review in reviews:\n",
    "        cleaned_review = getstemmedReview(review)\n",
    "        print((cleaned_review),file=out)\n",
    "    out.close()\n",
    "    \n",
    "    "
   ]
  }
 ],
 "metadata": {
  "kernelspec": {
   "display_name": "Python 3 (ipykernel)",
   "language": "python",
   "name": "python3"
  },
  "language_info": {
   "codemirror_mode": {
    "name": "ipython",
    "version": 3
   },
   "file_extension": ".py",
   "mimetype": "text/x-python",
   "name": "python",
   "nbconvert_exporter": "python",
   "pygments_lexer": "ipython3",
   "version": "3.8.10"
  }
 },
 "nbformat": 4,
 "nbformat_minor": 5
}
